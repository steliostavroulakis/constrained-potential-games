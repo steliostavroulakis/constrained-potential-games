{
  "nbformat": 4,
  "nbformat_minor": 0,
  "metadata": {
    "colab": {
      "provenance": []
    },
    "kernelspec": {
      "name": "python3",
      "display_name": "Python 3"
    },
    "language_info": {
      "name": "python"
    }
  },
  "cells": [
    {
      "cell_type": "markdown",
      "source": [
        "# Experimenal Section\n",
        "\n",
        "---\n",
        "\n",
        "The primary goal here is to see that players are reaching a Nash Equilibrium and that they also respect their constraints given at initialization. \n",
        "To do that we plot a spyder graph of all distributions of the players and the Nash Gap over time. This notebook is separated into 9 parts:\n",
        "\n",
        "| # | Description |\n",
        "| --- | --- |\n",
        "|`1`|Setting Up the Environment|\n",
        "|`2`|Defining Helper Functions|\n",
        "|`3`|Defining the Player|\n",
        "|`4`|Updating Lambda Values|\n",
        "|`5`|Gradient Descent Step|\n",
        "|`6`|Computing the Nash Gap|\n",
        "|`7`|Auxiliary Visualization Code|\n",
        "|`8`|Setting Up the Environment|\n",
        "|`9`|Main Loop and Results|\n"
      ],
      "metadata": {
        "id": "-tcEP_wPjHpF"
      }
    },
    {
      "cell_type": "markdown",
      "source": [
        "# Part 1: Setting Up the Environment\n",
        "\n",
        "In this section, we import all the necessary libraries for our experiment. We use `random` for generating random numbers, `numpy` for numerical operations, `matplotlib.pyplot` for data visualization, `scipy.optimize.linprog` for linear programming solutions, and `networkx` for creating graphs."
      ],
      "metadata": {
        "id": "NkKBOnG9jkbt"
      }
    },
    {
      "cell_type": "code",
      "execution_count": 3,
      "metadata": {
        "id": "AUcKDN0PL6dO"
      },
      "outputs": [],
      "source": [
        "import random\n",
        "import numpy as np\n",
        "import matplotlib.pyplot as plt\n",
        "from scipy.optimize import linprog\n",
        "import networkx as nx\n",
        "\n",
        "plt.style.use('ggplot')"
      ]
    },
    {
      "cell_type": "markdown",
      "source": [
        "# Part 2: Defining Helper Functions\n",
        "\n",
        "In this section, we define a series of helper functions to aid in the computation of the Nash Equilibrium and visualization of strategies.\n",
        "\n",
        "`total_expected_load()`: This function calculates the total expected load on all edges in the graph given the current strategies of all players.\n",
        "\n",
        "`single_expected_load()`: This function calculates the expected load on each edge for a single player's strategy.\n",
        "\n",
        "`projsplx()`: This function performs projection to simplex. This is useful for ensuring our computed strategies are valid probability distributions.\n",
        "\n",
        "`total_effective_congestion()`: This function calculates the effective congestion on all edges of the graph. It differentiates between the highway and the road network by applying a congestion multiplier to the highway edges.\n",
        "\n",
        "`create_dag()`: This function creates the directed acyclic graph (DAG) of our problem. The graph includes three roads and a highway, all connected to a common source 's' and target 't'."
      ],
      "metadata": {
        "id": "Ioz81-yqj34r"
      }
    },
    {
      "cell_type": "code",
      "source": [
        "def total_expected_load(G, players):\n",
        "    \"\"\"Calculates the total expected load for all edges in the graph.\"\"\"\n",
        "    expected_loads = {edge: 0 for edge in G.edges()}\n",
        "    for player in players.values():\n",
        "        for path_index, prob in enumerate(player.strategy):\n",
        "            path = player.paths[path_index]\n",
        "            for i in range(len(path)-1):\n",
        "                edge = (path[i], path[i+1])\n",
        "                expected_loads[edge] += prob\n",
        "    return expected_loads\n",
        "\n",
        "def single_expected_load(G, strategy, paths):\n",
        "    \"\"\"Calculates the expected load for each edge in the graph for a single strategy.\"\"\"\n",
        "    expected_loads = {edge: 0 for edge in G.edges()}\n",
        "    for path_index, prob in enumerate(strategy):\n",
        "        path = paths[path_index]\n",
        "        for i in range(len(path)-1):\n",
        "            edge = (path[i], path[i+1])\n",
        "            expected_loads[edge] += prob\n",
        "    return expected_loads\n",
        "\n",
        "def projsplx(y):\n",
        "    \"\"\"Projection to Simplex\"\"\"\n",
        "    s = np.sort(y)\n",
        "    n = len(y) ; flag = False\n",
        "    \n",
        "    parsum = 0\n",
        "    tmax = -np.inf\n",
        "    for idx in range(n-2, -1, -1):\n",
        "        parsum += s[idx+1]\n",
        "        tmax = (parsum - 1) / (n - (idx + 1) )\n",
        "        if tmax >= s[idx]:\n",
        "            flag = True ; break\n",
        "    \n",
        "    if not flag:\n",
        "        tmax = (np.sum(s) - 1) / n\n",
        "    \n",
        "    return np.maximum(y - tmax, 0)\n",
        "   \n",
        "def total_effective_congestion(true_cong_dict, cong_mult):\n",
        "    \"\"\"Function that translates effective load to congestion, \n",
        "    differentiating the highway from the road network\"\"\"\n",
        "    highway = set()\n",
        "    highway.add(('s','hw'))\n",
        "    highway.add(('hw','t'))\n",
        "    \n",
        "    ret_dict = dict()\n",
        "\n",
        "    for edge in true_cong_dict:\n",
        "\n",
        "        if edge in highway:\n",
        "            ret_dict[edge] = cong_mult*true_cong_dict[edge]\n",
        "        else: \n",
        "            ret_dict[edge] = true_cong_dict[edge]\n",
        "\n",
        "    return ret_dict\n",
        "\n",
        "def create_dag():\n",
        "    \"\"\"Function that creates our DAG of interest\"\"\"\n",
        "    G = nx.DiGraph()\n",
        "    \n",
        "    # Add nodes s and t to the graph\n",
        "    G.add_node('s')\n",
        "    G.add_node('t')\n",
        "    \n",
        "    # Add some edges to the graph\n",
        "    G.add_edge('s', 'r1')\n",
        "    G.add_edge('r1', 't')\n",
        "\n",
        "    G.add_edge('s', 'r2')\n",
        "    G.add_edge('r2', 't')\n",
        "\n",
        "    G.add_edge('s', 'r3')\n",
        "    G.add_edge('r3', 't')\n",
        "    \n",
        "    G.add_edge('s', 'hw')\n",
        "    G.add_edge('hw', 't')\n",
        "\n",
        "    return G"
      ],
      "metadata": {
        "id": "gW1pSkqNSXWq"
      },
      "execution_count": 4,
      "outputs": []
    },
    {
      "cell_type": "markdown",
      "source": [
        "# Part 3: Defining the Player\n",
        "\n",
        "The player contains various functions, the most important of which is:\n",
        "\n",
        "`primal_gradient()`: Calculates the gradient of the objective function. This gradient is used in the projected gradient descent algorithm to update the player's strategy."
      ],
      "metadata": {
        "id": "CR8kXSwBkOyM"
      }
    },
    {
      "cell_type": "code",
      "source": [
        "class Player:\n",
        "\n",
        "    def __init__(self, name, G, gas):\n",
        "\n",
        "        \"\"\"Initializes a Player with the given name, graph, and gas amount.\"\"\"\n",
        "        self.name = name  # player identifier\n",
        "        self.G = G  # graph representation\n",
        "        self.gas = gas  # player's gas amount\n",
        "        self.l = 0  # initial lambda value\n",
        "        self.paths = self.find_all_paths(G,'s','t')  # all paths from source to target in the graph\n",
        "        self.path_lengths = [2, 3, 4, 10]  # path lengths for constraint purposes\n",
        "\n",
        "        # Initialize strategy with normalized random values\n",
        "        initial_strategy = [random.random() for _ in range(len(self.paths))]\n",
        "        self.strategy = np.array([x / sum(initial_strategy) for x in initial_strategy])\n",
        "\n",
        "    def to_edge_list(self, path):\n",
        "        \"\"\"Converts a path to a list of edges.\"\"\"\n",
        "        return [(path[i], path[i+1]) for i in range(len(path) - 1)]\n",
        "\n",
        "    def primal_gradient(self, exp_visitation, cong_mult):\n",
        "        \"\"\"Calculates the primal gradient based on expected visitation and congestion multiplier.\"\"\"\n",
        "        congestion_dict = total_effective_congestion(exp_visitation, cong_mult)\n",
        "\n",
        "        primal_gradient = np.array([self.congestion_of_path(path, congestion_dict) for path in self.paths])\n",
        "        constr_gradient = np.array(self.path_lengths)\n",
        "        exp_constr = np.dot(constr_gradient, self.strategy)\n",
        "\n",
        "        return primal_gradient if self.gas - exp_constr > 0 else primal_gradient + self.l*constr_gradient\n",
        "    \n",
        "    def find_all_paths(self, dag, source, sink, path=[]):\n",
        "        \"\"\"Recursively finds all paths from source to sink in a directed acyclic graph.\"\"\"\n",
        "        path = path + [source]\n",
        "        if source == sink:\n",
        "            return [path]\n",
        "        paths = []\n",
        "        for child in dag[source]:\n",
        "            for new_path in self.find_all_paths(dag, child, sink, path):\n",
        "                paths.append(new_path)\n",
        "        return paths\n",
        "\n",
        "    def congestion_of_path(self, path, congestion_dict):\n",
        "        \"\"\"Calculates the total congestion along a path.\"\"\"\n",
        "        return sum(congestion_dict[(path[i], path[i+1])] for i in range(len(path) - 1))"
      ],
      "metadata": {
        "id": "Q2fIrxa0O6Qf"
      },
      "execution_count": 5,
      "outputs": []
    },
    {
      "cell_type": "markdown",
      "source": [
        "# Part 4: Updating Lambda Values\n",
        "\n",
        "The update of lambda is done in one iteration for each player since we have an analytical expression of the maximum lambda for a given strategy profile, since we use a regularizer. The regularizer is a parameter that controls the rate of updating the lambda values and it plays a crucial role in the speed of convergence of the algorithm."
      ],
      "metadata": {
        "id": "WpAjf8sPlKbC"
      }
    },
    {
      "cell_type": "code",
      "source": [
        "def update_lambda(players, regularizer):\n",
        "    \"\"\"Lambda update\"\"\"\n",
        "    for player in players.values():\n",
        "\n",
        "        # Calculate expected gas consumption and constraint violation\n",
        "        expected_consumption = sum(x * y for x, y in zip(player.strategy, player.path_lengths))\n",
        "        constraint_function = expected_consumption - player.gas\n",
        "\n",
        "        # Replace lambda with new value\n",
        "        player.l = max(0,constraint_function/(2*regularizer))"
      ],
      "metadata": {
        "id": "KZ0NbntzTmzZ"
      },
      "execution_count": 6,
      "outputs": []
    },
    {
      "cell_type": "markdown",
      "source": [
        "# Part 5: Gradient Descent Step\n",
        "\n",
        "The `gradient_descent()` function calculates the gradient of the meta-objective function, accounting for the current values of the Lagrangian multipliers. By continuously adjusting the strategies in the direction of the negative gradient, the players minimize their individual costs, leading to a Nash equilibrium where no player can unilaterally and feasibly improve their individual cost.\n",
        "\n"
      ],
      "metadata": {
        "id": "UnibDitklqCh"
      }
    },
    {
      "cell_type": "code",
      "source": [
        "def gradient_descent(G, players, x_stepsize, cong_mult):\n",
        "    \"\"\"Gradient descent step\"\"\"\n",
        "    \n",
        "    # Gradient calculation\n",
        "    total_cong_dict = total_expected_load(G,players)\n",
        "    all_grads = []\n",
        "    for _,player in players.items():\n",
        "        all_grads.append(player.primal_gradient(total_cong_dict, cong_mult))\n",
        "\n",
        "    # Update strategies\n",
        "    for idx,(_,player) in enumerate(players.items()):\n",
        "        player.strategy = projsplx(player.strategy - x_stepsize * all_grads[idx])\n"
      ],
      "metadata": {
        "id": "SUMZSwnAT-PD"
      },
      "execution_count": 7,
      "outputs": []
    },
    {
      "cell_type": "markdown",
      "source": [
        "# Part 6: Computing the Nash Gap\n",
        "\n",
        "The functions below allow the calculation of the Nash Gap, given a product of strategies from all players.\n",
        "\n",
        "The linear program is constructed as follows:\n",
        "\n",
        "* The objective function is to minimize the total cost of the player's strategy.\n",
        "\n",
        "* The inequality constraints ensure that the total gas consumption does not exceed the player's available gas.\n",
        "\n",
        "* The equality constraints ensure that the player's strategy remains a valid probability distribution (i.e., the probabilities sum to one).\n",
        "\n",
        "* The bounds impose the restriction that each probability must be between 0 and 1.\n",
        "\n",
        "If the linear program is infeasible, the script prints an error message and exits. This should not happen in theory, as Slater condition holds.\n",
        "\n",
        "In the end, the Nash gap provides a measure of the system's convergence to equilibrium. When the Nash gap is zero for all players, the system is at a Nash equilibrium."
      ],
      "metadata": {
        "id": "gVppKKCKmbVD"
      }
    },
    {
      "cell_type": "code",
      "source": [
        "def calculate_nash_gap(G, players, cong_mult):\n",
        "    total_cong_dict = total_expected_load(G,players)\n",
        "    gap_temp = []\n",
        "    for player in players.values():\n",
        "        gap_temp.append(abs(player_nash_gap(G, player, total_cong_dict, cong_mult)))\n",
        "    return max(gap_temp)\n",
        "\n",
        "def player_nash_gap(G, player, exp_visitation, cong_mult):\n",
        "\n",
        "    self_load = single_expected_load(player.G, player.strategy, player.paths)\n",
        "    rest_load = {key: exp_visitation[key] - self_load[key] for key in exp_visitation.keys()}\n",
        "\n",
        "    hypothetical_dict = total_effective_congestion({edge : load + 1 for edge, load in rest_load.items()}, cong_mult)\n",
        "\n",
        "    # pure_strategy_cost is a vector containing [f(x_1), f(x_2), ..., f(x_5)]\n",
        "    # each entry is the cost for pure strategy i\n",
        "    pure_strategy_cost = [None for _ in player.paths]\n",
        "    for i in range(len(player.paths)):\n",
        "        cost = 0\n",
        "        for edge in player.to_edge_list(player.paths[i]):\n",
        "            cost += hypothetical_dict[edge]\n",
        "        pure_strategy_cost[i] = cost\n",
        "\n",
        "    # same but for gas\n",
        "    pure_strategy_utility = player.path_lengths\n",
        "    \n",
        "    # constraints for the linear program: ask rose about this if you're confused\n",
        "    # if you're confused and you're rose, this is in your black notebook somewhere. good luck\n",
        "    obj = pure_strategy_cost\n",
        "    lhs_ineq = [player.path_lengths]\n",
        "    rhs_ineq = [player.gas]\n",
        "    lhs_eq = [[1 for _ in player.paths]]\n",
        "    rhs_eq = [1]\n",
        "    bnd = [(0, 1) for _ in player.paths]\n",
        "\n",
        "    # Added recommended changes to linprog function call\n",
        "    opt = linprog(c=obj, A_ub=lhs_ineq, b_ub=rhs_ineq,\n",
        "                  A_eq=lhs_eq, b_eq=rhs_eq, bounds=bnd,\n",
        "                  method=\"interior-point\",\n",
        "                  options={'cholesky': False, 'sym_pos': False, 'lstsq': True, 'presolve': True})\n",
        "\n",
        "    if not opt.success:\n",
        "        # problem!\n",
        "        print('linear program was non-feasible somehow? exiting')\n",
        "        sys.exit(-1)\n",
        "\n",
        "    # now calculate the actual congestion experienced by this player\n",
        "    actual_congestion = 0\n",
        "    effective_congestion_dict = total_effective_congestion(exp_visitation, cong_mult)\n",
        "    for i in range(len(player.paths)):\n",
        "        path_congestion = 0\n",
        "        for edge in player.to_edge_list(player.paths[i]):\n",
        "            path_congestion += effective_congestion_dict[edge]\n",
        "        actual_congestion += player.strategy[i] * path_congestion\n",
        "\n",
        "    return actual_congestion - opt.fun"
      ],
      "metadata": {
        "id": "E_fKPxKWT66m"
      },
      "execution_count": 8,
      "outputs": []
    },
    {
      "cell_type": "markdown",
      "source": [
        "# Part 7: Auxiliary Visualization Code \n",
        "\n",
        "Below, we include two functions for plotting, one for plotting the spider plot and another to plot anything else in the form of a 1D function, such as the Nash Gap, the constraint violation and the values of lambda over time."
      ],
      "metadata": {
        "id": "s7F1D697nHJx"
      }
    },
    {
      "cell_type": "code",
      "source": [
        "def plot_distributions(players):\n",
        "    labels = np.array(['Road 1', 'Road 2', 'Road 3', 'Highway'])\n",
        "    num_vars = len(labels)\n",
        "\n",
        "    # Compute angle each bar is centered on:\n",
        "    angles = np.linspace(0, 2 * np.pi, num_vars, endpoint=False).tolist()\n",
        "    labels = np.concatenate((labels,[labels[0]]))\n",
        "    angles += angles[:1]\n",
        "\n",
        "    # Size of the figure\n",
        "    fig, ax = plt.subplots(figsize=(6, 6), subplot_kw=dict(polar=True))\n",
        "\n",
        "    # Draw one axe per variable and add labels\n",
        "    plt.xticks(angles, labels, color='grey', size=12)\n",
        "\n",
        "    # Draw ylabels, I chose to only display the max value\n",
        "    ax.set_rlabel_position(30)\n",
        "    plt.yticks([1], ['1'], color='grey', size=10)\n",
        "    plt.ylim(0, 1)\n",
        "\n",
        "    # Color dictionary for player names to match line color\n",
        "    color_dict = {'Yellow': 'yellow', 'Red': 'red', 'Green': 'green', 'Blue': 'blue', 'Orange': 'orange'}\n",
        "\n",
        "    for player in players.values():\n",
        "        # The plot is a circle, so we need to \"complete the loop\"\n",
        "        # and append the start value to the end.\n",
        "        strategy = np.concatenate((player.strategy,[player.strategy[0]]))\n",
        "        \n",
        "        ax.plot(angles, strategy, linewidth=1, linestyle='solid', label=player.name, color=color_dict[player.name])\n",
        "        ax.fill(angles, strategy, color=color_dict[player.name], alpha=0.05)\n",
        "\n",
        "    # Add legend\n",
        "    plt.legend(loc='upper right', bbox_to_anchor=(0.1, 0.1))\n",
        "    plt.show()\n",
        "\n",
        "def plot_graph(y_values, y_label, title):\n",
        "    plt.figure(figsize=(8, 6))\n",
        "    plt.plot(range(1, len(y_values) + 1), y_values, color='tab:red')\n",
        "    plt.xlabel('Iteration')\n",
        "    plt.ylabel(y_label)\n",
        "    plt.title(title)\n",
        "    plt.show()"
      ],
      "metadata": {
        "id": "-zLjdOT_UNii"
      },
      "execution_count": 16,
      "outputs": []
    },
    {
      "cell_type": "markdown",
      "source": [
        "# Part 8: Setting Up the Experiment\n",
        "\n",
        "In this part, we initiate the experiment and set up the parameters. Notice the gas constraints for all players. For example, the green player has a gas constraint of 9, which is pretty close to 10, maybe he selects the highway more in expectation."
      ],
      "metadata": {
        "id": "Eeet081KnlZt"
      }
    },
    {
      "cell_type": "code",
      "source": [
        "G = create_dag()\n",
        "players = dict()\n",
        "\n",
        "t_iterates = 800\n",
        "x_stepsize = 0.0005\n",
        "\n",
        "regularizer = 0.01\n",
        "hw_cong_mult = 0.1\n",
        "\n",
        "player_gas_constraints = {\n",
        "    'Red': 6,\n",
        "    'Yellow': 3,\n",
        "    'Green': 9,\n",
        "    'Blue': 5,\n",
        "    'Orange': 4\n",
        "}\n",
        "\n",
        "for color, gas_constraint in player_gas_constraints.items():\n",
        "    players[color] = Player(color, G, gas_constraint)"
      ],
      "metadata": {
        "id": "lYOTXKdeMqev"
      },
      "execution_count": 17,
      "outputs": []
    },
    {
      "cell_type": "markdown",
      "source": [
        "# Part 9: Main Loop and Results\n",
        "\n",
        "This final of the code executes the main loop of our experiment and visualizes the results. We initialize the empty lists for:\n",
        "* constraint violation\n",
        "* lagrangian multipliers\n",
        "* nash gaps\n",
        "\n",
        "After running `Algorithm 1` for `t` iterates, we call `plot_distributions()` to visualize the final strategy distribution for each player."
      ],
      "metadata": {
        "id": "4HOpJsYgoCg5"
      }
    },
    {
      "cell_type": "code",
      "source": [
        "constr_list, l_list, gaps = [], [], []\n",
        "\n",
        "for t in range(t_iterates):\n",
        "\n",
        "    if t % 100 == 0:\n",
        "        print(f\"Starting Iteration {t}/{t_iterates}\")\n",
        "\n",
        "    # Find optimal lambda for iteration t\n",
        "    update_lambda(players, regularizer)\n",
        "\n",
        "    # Run a gradient descent step on Psi\n",
        "    gradient_descent(G, players, x_stepsize,hw_cong_mult)\n",
        "\n",
        "    constr_sum = 0\n",
        "    l_sum = 0\n",
        "\n",
        "    for player in players.values():\n",
        "        # Calculate expected gas consumption and constraint violation\n",
        "        expected_consumption = sum(x * y for x, y in zip(player.strategy, player.path_lengths))\n",
        "        constraint_value = expected_consumption - player.gas\n",
        "        if constraint_value < 0:\n",
        "            constraint_value = 0\n",
        "\n",
        "        # Sum up the constraint_function and player.l values\n",
        "        constr_sum += constraint_value\n",
        "        l_sum += player.l\n",
        "\n",
        "    constr_list.append(constr_sum)\n",
        "    l_list.append(l_sum)\n",
        "    gaps.append(calculate_nash_gap(G, players, hw_cong_mult))\n",
        "\n",
        "# plot_graph(gaps, 'Sum of nash_gap', 'Sum of nash_gap over time')\n",
        "# plot_graph(constr_list, 'Constraint Function', 'Constraint Function Over Time')\n",
        "# plot_graph(l_list, 'Player.l', 'Player.l Over Time')\n",
        "\n",
        "# fig, axs = plt.subplots(len(players), 1, figsize=(8, 15))\n",
        "# for idx, (player_name, player) in enumerate(players.items()):\n",
        "#     axs[idx].bar(range(len(player.strategy)), player.strategy)\n",
        "#     axs[idx].set_title(f'{player_name}')\n",
        "#     axs[idx].set_xlabel('Strategy')\n",
        "#     axs[idx].set_ylabel('Probability')\n",
        "#     axs[idx].set_ylim([0, 1])\n",
        "# plt.tight_layout()\n",
        "# plt.show()\n",
        "\n",
        "plot_distributions(players)"
      ],
      "metadata": {
        "colab": {
          "base_uri": "https://localhost:8080/",
          "height": 781
        },
        "id": "ZS10ZgMZgVpD",
        "outputId": "6de2488a-c3a2-40e4-d169-c1a12d45c397"
      },
      "execution_count": 18,
      "outputs": [
        {
          "output_type": "stream",
          "name": "stdout",
          "text": [
            "Starting Iteration 0/800\n"
          ]
        },
        {
          "output_type": "stream",
          "name": "stderr",
          "text": [
            "<ipython-input-8-e2652902c8c1>:37: DeprecationWarning: `method='interior-point'` is deprecated and will be removed in SciPy 1.11.0. Please use one of the HiGHS solvers (e.g. `method='highs'`) in new code.\n",
            "  opt = linprog(c=obj, A_ub=lhs_ineq, b_ub=rhs_ineq,\n"
          ]
        },
        {
          "output_type": "stream",
          "name": "stdout",
          "text": [
            "Starting Iteration 100/800\n",
            "Starting Iteration 200/800\n",
            "Starting Iteration 300/800\n",
            "Starting Iteration 400/800\n",
            "Starting Iteration 500/800\n",
            "Starting Iteration 600/800\n",
            "Starting Iteration 700/800\n"
          ]
        },
        {
          "output_type": "display_data",
          "data": {
            "text/plain": [
              "<Figure size 600x600 with 1 Axes>"
            ],
            "image/png": "[encoded data removed]"
          },
          "metadata": {}
        }
      ]
    },
    {
      "cell_type": "markdown",
      "source": [
        "### Notice how the distributions are proportional to the gas available to each player\n",
        "\n",
        "```\n",
        "player_gas_constraints = {\n",
        "    'Red': 6,\n",
        "    'Yellow': 3,\n",
        "    'Green': 9,\n",
        "    'Blue': 5,\n",
        "    'Orange': 4\n",
        "}\n",
        "```"
      ],
      "metadata": {
        "id": "WEryuuzvrJY5"
      }
    },
    {
      "cell_type": "markdown",
      "source": [
        "### Finally we plot the Nas Gap that usually decays and approaches a small positive value."
      ],
      "metadata": {
        "id": "ff8sv4SZrtwX"
      }
    },
    {
      "cell_type": "code",
      "source": [
        "plot_graph(gaps, 'Sum of nash_gap', 'Sum of nash_gap over time')\n",
        "# plot_graph(constr_list, 'Constraint Function', 'Constraint Function Over Time')\n",
        "# plot_graph(l_list, 'Player.l', 'Player.l Over Time')"
      ],
      "metadata": {
        "colab": {
          "base_uri": "https://localhost:8080/",
          "height": 568
        },
        "id": "CENaWWLuh1Cz",
        "outputId": "848791e8-8f27-448d-940c-e5152afe7a0b"
      },
      "execution_count": 21,
      "outputs": [
        {
          "output_type": "display_data",
          "data": {
            "text/plain": [
              "<Figure size 800x600 with 1 Axes>"
            ],
            "image/png": "[encoded data removed]"
          },
          "metadata": {}
        }
      ]
    }
  ]
}